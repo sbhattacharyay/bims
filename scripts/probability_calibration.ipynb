{
 "cells": [
  {
   "cell_type": "markdown",
   "metadata": {},
   "source": [
    "# Calculate calibration curve points using SciKit Learn\n",
    "\n",
    "### Calculate calibration curve datapoints for subsequent plotting in R\n",
    "\n",
    "Shubhayu Bhattacharyay\n",
    "<br>"
   ]
  },
  {
   "cell_type": "markdown",
   "metadata": {},
   "source": [
    "## I. Initialization"
   ]
  },
  {
   "cell_type": "markdown",
   "metadata": {},
   "source": [
    "### Import necessary packages"
   ]
  },
  {
   "cell_type": "code",
   "execution_count": 1,
   "metadata": {},
   "outputs": [],
   "source": [
    "# Fundamental methods\n",
    "import os\n",
    "import re\n",
    "import sys\n",
    "import time\n",
    "import glob\n",
    "import random\n",
    "import warnings\n",
    "import itertools\n",
    "import numpy as np\n",
    "import pandas as pd\n",
    "import pickle as cp\n",
    "import seaborn as sns\n",
    "from scipy import stats\n",
    "from pathlib import Path\n",
    "import matplotlib.pyplot as plt\n",
    "warnings.filterwarnings(action=\"ignore\")\n",
    "\n",
    "# SciKit-Learn methods\n",
    "from sklearn.calibration import calibration_curve"
   ]
  },
  {
   "cell_type": "markdown",
   "metadata": {},
   "source": [
    "## II. Calculate probability calibration curve points"
   ]
  },
  {
   "cell_type": "markdown",
   "metadata": {},
   "source": [
    "### Loop through result files and calculate probability calibration points"
   ]
  },
  {
   "cell_type": "code",
   "execution_count": 111,
   "metadata": {},
   "outputs": [],
   "source": [
    "# Extract dataframe of optimal tuning results\n",
    "opt_tuning_results = pd.read_csv('../results/detection_results/regression_results/optimal_tuning_results.csv')\n",
    "\n",
    "# Imputation directories\n",
    "imp_dirs = glob.glob('../results/detection_results/regression_results/imp*/')\n",
    "\n",
    "calib_df = pd.DataFrame(np.empty((0,6)))\n",
    "for i in range(len(opt_tuning_results.index)):\n",
    "    if (opt_tuning_results.model[i] == 'mnlr'):\n",
    "        model_file_name =  ('mnlr_mdl_'+ str(opt_tuning_results.maxAUROCdim[i])+ '_preds.csv')\n",
    "    elif (opt_tuning_results.model[i] == 'mnlr.smote'):\n",
    "        model_file_name =  ('SMOTE_mnlr_mdl_'+ str(opt_tuning_results.maxAUROCdim[i])+ '_preds.csv')\n",
    "    elif (opt_tuning_results.model[i] == 'polr'):\n",
    "        model_file_name =  ('polr_mdl_'+ str(opt_tuning_results.maxAUROCdim[i])+ '_preds.csv')\n",
    "    elif (opt_tuning_results.model[i] == 'polr.smote'):\n",
    "        model_file_name =  ('SMOTE_polr_mdl_'+ str(opt_tuning_results.maxAUROCdim[i])+ '_preds.csv')\n",
    "        \n",
    "    if opt_tuning_results['obs.window'][i] % 1 == 0:\n",
    "        curr_obs_window = str(int(opt_tuning_results['obs.window'][i]))\n",
    "    else:\n",
    "        curr_obs_window = str(opt_tuning_results['obs.window'][i])\n",
    "            \n",
    "    for j in range(len(imp_dirs)):\n",
    "        curr_mdl_results = pd.read_csv(os.path.join(imp_dirs[j],'detection_window_'+curr_obs_window,model_file_name))\n",
    "        uniq_labels = np.sort(curr_mdl_results['true.labels'].unique())\n",
    "        for k in range(len(uniq_labels)):\n",
    "            curr_mdl_results = curr_mdl_results.assign(temp_label= (curr_mdl_results['true.labels'] == uniq_labels[k]).astype(int))\n",
    "            curr_label_prob_name = [col for col in curr_mdl_results if col.startswith('GCSm='+str(uniq_labels[k]))]\n",
    "            prob_true, prob_pred =  calibration_curve(curr_mdl_results.temp_label.to_numpy(), np.clip(curr_mdl_results[curr_label_prob_name[0]].to_numpy(),0,1), n_bins=5, strategy='uniform') \n",
    "            temp_df = pd.DataFrame({'prob_true':prob_true, 'prob_pred':prob_pred,'obs_window':curr_obs_window,'model':opt_tuning_results.model[i],'imp':j+1,'GCSm':uniq_labels[k]})\n",
    "            calib_df.columns = temp_df.columns\n",
    "            calib_df = calib_df.append(temp_df,ignore_index=True)\n",
    "calib_df.to_csv('../results/detection_results/regression_results/compiled_calibration_curves.csv',index=False)"
   ]
  }
 ],
 "metadata": {
  "kernelspec": {
   "display_name": "sb_venv",
   "language": "python",
   "name": "sb_venv"
  },
  "language_info": {
   "codemirror_mode": {
    "name": "ipython",
    "version": 3
   },
   "file_extension": ".py",
   "mimetype": "text/x-python",
   "name": "python",
   "nbconvert_exporter": "python",
   "pygments_lexer": "ipython3",
   "version": "3.7.6"
  }
 },
 "nbformat": 4,
 "nbformat_minor": 4
}
