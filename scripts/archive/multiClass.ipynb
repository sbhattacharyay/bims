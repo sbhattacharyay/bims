{
  "nbformat": 4,
  "nbformat_minor": 0,
  "metadata": {
    "colab": {
      "name": "MultiClass.ipynb",
      "provenance": [],
      "collapsed_sections": []
    },
    "kernelspec": {
      "name": "python3",
      "display_name": "Python 3"
    }
  },
  "cells": [
    {
      "cell_type": "markdown",
      "metadata": {
        "id": "x05yXHnCaOTy",
        "colab_type": "text"
      },
      "source": [
        "## Multi-class Dataset"
      ]
    },
    {
      "cell_type": "markdown",
      "metadata": {
        "id": "09DJgdq6ULIC",
        "colab_type": "text"
      },
      "source": [
        "Whereas binary classification involves classifying something into one of two classes (e.g. \"black\" or \"white\", \"dead\" or \"alive\", etc), multiclass problems involve classifying something (e.g. a coordinate) into one of N classes (e.g. \"red\", \"white\" or \"blue\").  For example, Intent classification (classifying a sentence into one of N intents) is a common use-case in Natural Language Processing (NLP) for multi-class classification.  This tutorial will show you some tips and tricks to improve your multi-class classification results"
      ]
    },
    {
      "cell_type": "code",
      "metadata": {
        "id": "UxOWuKtayTdG",
        "colab_type": "code",
        "colab": {
          "base_uri": "https://localhost:8080/",
          "height": 297
        },
        "outputId": "ad51a2cb-79e5-40b3-a01d-c63901b2a78c"
      },
      "source": [
        "!wget https://raw.githubusercontent.com/mohammedterry/ANNs/master/captainamerica.py\n",
        "from captainamerica import multiclass_data\n",
        "\n",
        "RED = [255,0,0]\n",
        "WHITE = [255,255,255]\n",
        "BLUE = [0,0,255]\n",
        "\n",
        "x = len(multiclass_data)\n",
        "y = len(multiclass_data[0])\n",
        "z = len(RED)\n",
        "n_classes = 3\n",
        "\n",
        "import numpy as np\n",
        "image_array = np.zeros((x,y,z), np.uint8)\n",
        "\n",
        "for row,classes in enumerate(multiclass_data):\n",
        "  for column,rwb in enumerate(classes):\n",
        "    image_array[row][column] = [WHITE,RED,BLUE][rwb]\n",
        "\n",
        "from PIL import Image\n",
        "Image.fromarray(image_array)"
      ],
      "execution_count": null,
      "outputs": [
        {
          "output_type": "stream",
          "text": [
            "--2019-04-28 10:14:15--  https://raw.githubusercontent.com/mohammedterry/ANNs/master/captainamerica.py\n",
            "Resolving raw.githubusercontent.com (raw.githubusercontent.com)... 151.101.0.133, 151.101.64.133, 151.101.128.133, ...\n",
            "Connecting to raw.githubusercontent.com (raw.githubusercontent.com)|151.101.0.133|:443... connected.\n",
            "HTTP request sent, awaiting response... 200 OK\n",
            "Length: 27198 (27K) [text/plain]\n",
            "Saving to: ‘captainamerica.py’\n",
            "\n",
            "\rcaptainamerica.py     0%[                    ]       0  --.-KB/s               \rcaptainamerica.py   100%[===================>]  26.56K  --.-KB/s    in 0.007s  \n",
            "\n",
            "2019-04-28 10:14:15 (3.84 MB/s) - ‘captainamerica.py’ saved [27198/27198]\n",
            "\n"
          ],
          "name": "stdout"
        },
        {
          "output_type": "execute_result",
          "data": {
            "image/png": "[encoded data removed]",
            "text/plain": [
              "<PIL.Image.Image image mode=RGB size=100x90 at 0x7FDBDD8E2160>"
            ]
          },
          "metadata": {
            "tags": []
          },
          "execution_count": 1
        }
      ]
    },
    {
      "cell_type": "code",
      "metadata": {
        "id": "bB42ZbvuhG_K",
        "colab_type": "code",
        "colab": {}
      },
      "source": [
        "def one_hot(i, vec_len):\n",
        "  vector = [0]*vec_len\n",
        "  vector[i] = 1\n",
        "  return vector\n",
        "\n",
        "training_inputs = [(xx,yy) for xx in range(x) for yy in range(y)]\n",
        "training_outputs = [one_hot(c, z) for row in multiclass_data for c in row]\n",
        "\n",
        "training_outputs_labels = [c for row in multiclass_data for c in row]\n",
        "labels = set(training_outputs_labels)"
      ],
      "execution_count": null,
      "outputs": []
    },
    {
      "cell_type": "markdown",
      "metadata": {
        "id": "A7uIzI9KghOg",
        "colab_type": "text"
      },
      "source": [
        "## Evaluation Metrics"
      ]
    },
    {
      "cell_type": "markdown",
      "metadata": {
        "id": "hN-wdylNgjAD",
        "colab_type": "text"
      },
      "source": [
        "We shall have a visual method to qualitatively evaluate each model via visual inspection"
      ]
    },
    {
      "cell_type": "code",
      "metadata": {
        "id": "64cnM9-UjWmu",
        "colab_type": "code",
        "colab": {}
      },
      "source": [
        "def format_prediction(predicted_outputs):\n",
        "  predicted_image_array = np.zeros_like(image_array)\n",
        "  i = 0\n",
        "  for row,pixels in enumerate(predicted_image_array):\n",
        "    for column in range(len(pixels)):\n",
        "      p = np.argmax(predicted_outputs[i])\n",
        "      predicted_image_array[row][column] = [WHITE,RED,BLUE][p]\n",
        "      i += 1\n",
        "  return predicted_image_array"
      ],
      "execution_count": null,
      "outputs": []
    },
    {
      "cell_type": "markdown",
      "metadata": {
        "id": "Ihfu2DGDgoGV",
        "colab_type": "text"
      },
      "source": [
        "We shall also use metrics (Precision, Recall, F1, Confusion Matrix) to quantitatively evaluate each model and how well they are classifying each class (taking into account unbalanced data) and see which classes the model is confusing with one another\n",
        "\n"
      ]
    },
    {
      "cell_type": "code",
      "metadata": {
        "id": "Zz-SQhixgstA",
        "colab_type": "code",
        "colab": {}
      },
      "source": [
        "from sklearn.metrics import classification_report, confusion_matrix\n",
        "import pandas as pd\n",
        "import seaborn as sns\n",
        "import matplotlib.pyplot as plt\n",
        "\n",
        "def evaluate(y,y_hat,labels):\n",
        "  print(classification_report(y,y_hat))\n",
        "  cm = confusion_matrix(y,y_hat)\n",
        "  cm = cm.astype('float') / cm.sum(axis=1)[:, np.newaxis]\n",
        "  cmat = pd.DataFrame(cm)\n",
        "  cmat.columns = labels\n",
        "  cmat.set_index([pd.Index(labels, '')],inplace=True)\n",
        "  sns.heatmap(cmat,cmap=\"YlGnBu\", annot=True)\n",
        "  plt.title(\"Confusion Matrix\")"
      ],
      "execution_count": null,
      "outputs": []
    },
    {
      "cell_type": "markdown",
      "metadata": {
        "id": "ltZOZafEaVJL",
        "colab_type": "text"
      },
      "source": [
        "## Inherently Multiclass Classifiers"
      ]
    },
    {
      "cell_type": "markdown",
      "metadata": {
        "id": "tyRTfhSgYvyV",
        "colab_type": "text"
      },
      "source": [
        "Not all algorithms can support multi-class classification.  Here are some which do"
      ]
    },
    {
      "cell_type": "markdown",
      "metadata": {
        "id": "5qNmENOAcNWT",
        "colab_type": "text"
      },
      "source": [
        "### Shallow FeedForward Neural Network"
      ]
    },
    {
      "cell_type": "code",
      "metadata": {
        "id": "kiPcs7KKjLNq",
        "colab_type": "code",
        "colab": {
          "base_uri": "https://localhost:8080/",
          "height": 598
        },
        "outputId": "5fe665fb-a383-41bd-dfb0-dbb88a6155ef"
      },
      "source": [
        "from sklearn.neural_network import MLPClassifier\n",
        "snn_classifier = MLPClassifier()\n",
        "snn_classifier.fit(training_inputs, training_outputs)\n",
        "\n",
        "snn_predictions = snn_classifier.predict(training_inputs)\n",
        "snn_predictions_labels = [np.argmax(p) for p in snn_predictions]\n",
        "evaluate(training_outputs_labels, snn_predictions_labels, labels)\n",
        "Image.fromarray(format_prediction(snn_predictions))              "
      ],
      "execution_count": null,
      "outputs": [
        {
          "output_type": "stream",
          "text": [
            "/usr/local/lib/python3.6/dist-packages/sklearn/neural_network/multilayer_perceptron.py:562: ConvergenceWarning: Stochastic Optimizer: Maximum iterations (200) reached and the optimization hasn't converged yet.\n",
            "  % self.max_iter, ConvergenceWarning)\n"
          ],
          "name": "stderr"
        },
        {
          "output_type": "stream",
          "text": [
            "              precision    recall  f1-score   support\n",
            "\n",
            "           0       0.68      0.94      0.79      5608\n",
            "           1       0.73      0.25      0.38      2698\n",
            "           2       0.72      0.38      0.49       694\n",
            "\n",
            "   micro avg       0.69      0.69      0.69      9000\n",
            "   macro avg       0.71      0.52      0.55      9000\n",
            "weighted avg       0.70      0.69      0.64      9000\n",
            "\n"
          ],
          "name": "stdout"
        },
        {
          "output_type": "execute_result",
          "data": {
            "image/png": "[encoded data removed]",
            "text/plain": [
              "<PIL.Image.Image image mode=RGB size=100x90 at 0x7FDBC422E400>"
            ]
          },
          "metadata": {
            "tags": []
          },
          "execution_count": 40
        },
        {
          "output_type": "display_data",
          "data": {
            "image/png": "[encoded data removed]",
            "text/plain": [
              "<Figure size 432x288 with 2 Axes>"
            ]
          },
          "metadata": {
            "tags": []
          }
        }
      ]
    },
    {
      "cell_type": "markdown",
      "metadata": {
        "id": "pUfwd5ZgjHwL",
        "colab_type": "text"
      },
      "source": [
        "### Deep FeedForward Neural Network"
      ]
    },
    {
      "cell_type": "code",
      "metadata": {
        "id": "QR_M5jFqkAOv",
        "colab_type": "code",
        "colab": {
          "base_uri": "https://localhost:8080/",
          "height": 544
        },
        "outputId": "b8ff60fa-196f-463e-c11f-9431a808218d"
      },
      "source": [
        "dnn_classifier = MLPClassifier(hidden_layer_sizes = [100]*5)\n",
        "dnn_classifier.fit(training_inputs, training_outputs)\n",
        "\n",
        "dnn_predictions = dnn_classifier.predict(training_inputs)\n",
        "dnn_predictions_labels = [np.argmax(p) for p in dnn_predictions]\n",
        "evaluate(training_outputs_labels, dnn_predictions_labels, labels)\n",
        "Image.fromarray(format_prediction(dnn_predictions))              "
      ],
      "execution_count": null,
      "outputs": [
        {
          "output_type": "stream",
          "text": [
            "              precision    recall  f1-score   support\n",
            "\n",
            "           0       0.96      0.97      0.97      5608\n",
            "           1       0.96      0.93      0.95      2698\n",
            "           2       0.89      0.94      0.91       694\n",
            "\n",
            "   micro avg       0.96      0.96      0.96      9000\n",
            "   macro avg       0.94      0.95      0.94      9000\n",
            "weighted avg       0.96      0.96      0.96      9000\n",
            "\n"
          ],
          "name": "stdout"
        },
        {
          "output_type": "execute_result",
          "data": {
            "image/png": "[encoded data removed]",
            "text/plain": [
              "<PIL.Image.Image image mode=RGB size=100x90 at 0x7FDBC41310F0>"
            ]
          },
          "metadata": {
            "tags": []
          },
          "execution_count": 41
        },
        {
          "output_type": "display_data",
          "data": {
            "image/png": "[encoded data removed]",
            "text/plain": [
              "<Figure size 432x288 with 2 Axes>"
            ]
          },
          "metadata": {
            "tags": []
          }
        }
      ]
    },
    {
      "cell_type": "markdown",
      "metadata": {
        "id": "oPbLSVmcjFxm",
        "colab_type": "text"
      },
      "source": [
        "### Random Forest"
      ]
    },
    {
      "cell_type": "code",
      "metadata": {
        "id": "DJb1H9cHg5-N",
        "colab_type": "code",
        "colab": {
          "base_uri": "https://localhost:8080/",
          "height": 598
        },
        "outputId": "8dba2796-3d39-4426-c4ca-ddd96231f579"
      },
      "source": [
        "from sklearn.ensemble import RandomForestClassifier\n",
        "rf_classifier = RandomForestClassifier()\n",
        "rf_classifier.fit(training_inputs, training_outputs)\n",
        "\n",
        "rf_predictions = rf_classifier.predict(training_inputs)\n",
        "rf_predictions_labels = [np.argmax(p) for p in rf_predictions]\n",
        "evaluate(training_outputs_labels, rf_predictions_labels, labels)\n",
        "Image.fromarray(format_prediction(rf_predictions))              "
      ],
      "execution_count": null,
      "outputs": [
        {
          "output_type": "stream",
          "text": [
            "/usr/local/lib/python3.6/dist-packages/sklearn/ensemble/forest.py:246: FutureWarning: The default value of n_estimators will change from 10 in version 0.20 to 100 in 0.22.\n",
            "  \"10 in version 0.20 to 100 in 0.22.\", FutureWarning)\n"
          ],
          "name": "stderr"
        },
        {
          "output_type": "stream",
          "text": [
            "              precision    recall  f1-score   support\n",
            "\n",
            "           0       1.00      1.00      1.00      5608\n",
            "           1       1.00      1.00      1.00      2698\n",
            "           2       1.00      1.00      1.00       694\n",
            "\n",
            "   micro avg       1.00      1.00      1.00      9000\n",
            "   macro avg       1.00      1.00      1.00      9000\n",
            "weighted avg       1.00      1.00      1.00      9000\n",
            "\n"
          ],
          "name": "stdout"
        },
        {
          "output_type": "execute_result",
          "data": {
            "image/png": "[encoded data removed]",
            "text/plain": [
              "<PIL.Image.Image image mode=RGB size=100x90 at 0x7FDBC42A09E8>"
            ]
          },
          "metadata": {
            "tags": []
          },
          "execution_count": 39
        },
        {
          "output_type": "display_data",
          "data": {
            "image/png": "[encoded data removed]",
            "text/plain": [
              "<Figure size 432x288 with 2 Axes>"
            ]
          },
          "metadata": {
            "tags": []
          }
        }
      ]
    },
    {
      "cell_type": "markdown",
      "metadata": {
        "id": "DlwnE8SxcOdh",
        "colab_type": "text"
      },
      "source": [
        "### KNN"
      ]
    },
    {
      "cell_type": "code",
      "metadata": {
        "id": "lTRQbT6_cQuf",
        "colab_type": "code",
        "colab": {
          "base_uri": "https://localhost:8080/",
          "height": 544
        },
        "outputId": "0a7e216a-ba77-4e11-d086-d9cbccad301f"
      },
      "source": [
        "from sklearn.neighbors import KNeighborsClassifier\n",
        "knn_classifier = KNeighborsClassifier()\n",
        "knn_classifier.fit(training_inputs, training_outputs)\n",
        "\n",
        "knn_predictions = knn_classifier.predict(training_inputs)\n",
        "knn_predictions_labels = [np.argmax(p) for p in knn_predictions]\n",
        "evaluate(training_outputs_labels, knn_predictions_labels, labels)\n",
        "Image.fromarray(format_prediction(knn_predictions))              "
      ],
      "execution_count": null,
      "outputs": [
        {
          "output_type": "stream",
          "text": [
            "              precision    recall  f1-score   support\n",
            "\n",
            "           0       1.00      1.00      1.00      5608\n",
            "           1       1.00      1.00      1.00      2698\n",
            "           2       0.99      1.00      1.00       694\n",
            "\n",
            "   micro avg       1.00      1.00      1.00      9000\n",
            "   macro avg       1.00      1.00      1.00      9000\n",
            "weighted avg       1.00      1.00      1.00      9000\n",
            "\n"
          ],
          "name": "stdout"
        },
        {
          "output_type": "execute_result",
          "data": {
            "image/png": "[encoded data removed]",
            "text/plain": [
              "<PIL.Image.Image image mode=RGB size=100x90 at 0x7FDBC4394048>"
            ]
          },
          "metadata": {
            "tags": []
          },
          "execution_count": 38
        },
        {
          "output_type": "display_data",
          "data": {
            "image/png": "[encoded data removed]",
            "text/plain": [
              "<Figure size 432x288 with 2 Axes>"
            ]
          },
          "metadata": {
            "tags": []
          }
        }
      ]
    },
    {
      "cell_type": "markdown",
      "metadata": {
        "id": "mcGU7V5XaXOt",
        "colab_type": "text"
      },
      "source": [
        "## Ensemble of Binary Classifiers (One vs Rest)"
      ]
    },
    {
      "cell_type": "markdown",
      "metadata": {
        "id": "Hb8GZ34tfmbY",
        "colab_type": "text"
      },
      "source": [
        "Even then, these models are mostly limited to a handful of classes and will struggle to classify a large amount of classes.  If you have a lot of classes, an alternative method is to train a binary classifier for each class (which is easier and so should be better accuracy) and combine the classifiers' outputs as an ensemble method (this is the one-vs-rest approach).   "
      ]
    },
    {
      "cell_type": "markdown",
      "metadata": {
        "id": "5wdWfLvLaF7g",
        "colab_type": "text"
      },
      "source": [
        "### Deep FeedForward Neural Networks"
      ]
    },
    {
      "cell_type": "code",
      "metadata": {
        "id": "LXQRbsrtcZuZ",
        "colab_type": "code",
        "colab": {
          "base_uri": "https://localhost:8080/",
          "height": 544
        },
        "outputId": "a7798bf9-e7e3-4ef1-c527-f44742ded026"
      },
      "source": [
        "from sklearn.multiclass import OneVsRestClassifier\n",
        "dnns_classifier = OneVsRestClassifier(MLPClassifier(hidden_layer_sizes = [100]*5))\n",
        "dnns_classifier.fit(np.array(training_inputs), training_outputs_labels)\n",
        "\n",
        "dnns_predictions_labels = dnns_classifier.predict(training_inputs)\n",
        "evaluate(training_outputs_labels, dnns_predictions_labels, labels)\n",
        "dnns_predictions = [one_hot(p,z) for p in dnns_predictions_labels]\n",
        "Image.fromarray(format_prediction(dnns_predictions))"
      ],
      "execution_count": null,
      "outputs": [
        {
          "output_type": "stream",
          "text": [
            "              precision    recall  f1-score   support\n",
            "\n",
            "           0       0.97      0.99      0.98      5608\n",
            "           1       0.99      0.95      0.97      2698\n",
            "           2       0.90      0.89      0.89       694\n",
            "\n",
            "   micro avg       0.97      0.97      0.97      9000\n",
            "   macro avg       0.95      0.94      0.95      9000\n",
            "weighted avg       0.97      0.97      0.97      9000\n",
            "\n"
          ],
          "name": "stdout"
        },
        {
          "output_type": "execute_result",
          "data": {
            "image/png": "[encoded data removed]",
            "text/plain": [
              "<PIL.Image.Image image mode=RGB size=100x90 at 0x7FDBC425EFD0>"
            ]
          },
          "metadata": {
            "tags": []
          },
          "execution_count": 44
        },
        {
          "output_type": "display_data",
          "data": {
            "image/png": "[encoded data removed]",
            "text/plain": [
              "<Figure size 432x288 with 2 Axes>"
            ]
          },
          "metadata": {
            "tags": []
          }
        }
      ]
    },
    {
      "cell_type": "markdown",
      "metadata": {
        "id": "fnmpnQDpkSI9",
        "colab_type": "text"
      },
      "source": [
        "### XGBoost"
      ]
    },
    {
      "cell_type": "code",
      "metadata": {
        "id": "Lp9XP6J4bGAF",
        "colab_type": "code",
        "colab": {
          "base_uri": "https://localhost:8080/",
          "height": 544
        },
        "outputId": "ce3d0dec-06c4-4ada-d2a1-aab9671241a3"
      },
      "source": [
        "from xgboost import XGBClassifier\n",
        "xgb_classifier = OneVsRestClassifier(XGBClassifier())\n",
        "xgb_classifier.fit(np.array(training_inputs), training_outputs_labels)\n",
        "\n",
        "xgb_predictions_labels = xgb_classifier.predict(training_inputs)\n",
        "evaluate(training_outputs_labels, xgb_predictions_labels, labels)\n",
        "xgb_predictions = [one_hot(p,z) for p in xgb_predictions_labels]\n",
        "Image.fromarray(format_prediction(xgb_predictions))"
      ],
      "execution_count": null,
      "outputs": [
        {
          "output_type": "stream",
          "text": [
            "              precision    recall  f1-score   support\n",
            "\n",
            "           0       1.00      1.00      1.00      5608\n",
            "           1       1.00      1.00      1.00      2698\n",
            "           2       0.99      0.99      0.99       694\n",
            "\n",
            "   micro avg       1.00      1.00      1.00      9000\n",
            "   macro avg       0.99      1.00      0.99      9000\n",
            "weighted avg       1.00      1.00      1.00      9000\n",
            "\n"
          ],
          "name": "stdout"
        },
        {
          "output_type": "execute_result",
          "data": {
            "image/png": "[encoded data removed]",
            "text/plain": [
              "<PIL.Image.Image image mode=RGB size=100x90 at 0x7FDBC6772D30>"
            ]
          },
          "metadata": {
            "tags": []
          },
          "execution_count": 46
        },
        {
          "output_type": "display_data",
          "data": {
            "image/png": "[encoded data removed]",
            "text/plain": [
              "<Figure size 432x288 with 2 Axes>"
            ]
          },
          "metadata": {
            "tags": []
          }
        }
      ]
    },
    {
      "cell_type": "markdown",
      "metadata": {
        "id": "mU5hi0CkXL2h",
        "colab_type": "text"
      },
      "source": [
        "### SVM"
      ]
    },
    {
      "cell_type": "code",
      "metadata": {
        "id": "rhTe2G5rXNdo",
        "colab_type": "code",
        "colab": {
          "base_uri": "https://localhost:8080/",
          "height": 598
        },
        "outputId": "889e5945-f2ad-4c00-c0b1-1936e1853da7"
      },
      "source": [
        "from sklearn.svm import SVC\n",
        "svm_classifier = SVC(decision_function_shape='ovr')\n",
        "svm_classifier.fit(training_inputs, training_outputs_labels)\n",
        "\n",
        "svm_predictions_labels = svm_classifier.predict(training_inputs)\n",
        "evaluate(training_outputs_labels, svm_predictions_labels, labels)\n",
        "svm_predictions = [one_hot(p,z) for p in svm_predictions_labels]\n",
        "Image.fromarray(format_prediction(svm_predictions))"
      ],
      "execution_count": null,
      "outputs": [
        {
          "output_type": "stream",
          "text": [
            "/usr/local/lib/python3.6/dist-packages/sklearn/svm/base.py:196: FutureWarning: The default value of gamma will change from 'auto' to 'scale' in version 0.22 to account better for unscaled features. Set gamma explicitly to 'auto' or 'scale' to avoid this warning.\n",
            "  \"avoid this warning.\", FutureWarning)\n"
          ],
          "name": "stderr"
        },
        {
          "output_type": "stream",
          "text": [
            "              precision    recall  f1-score   support\n",
            "\n",
            "           0       1.00      1.00      1.00      5608\n",
            "           1       1.00      1.00      1.00      2698\n",
            "           2       1.00      1.00      1.00       694\n",
            "\n",
            "   micro avg       1.00      1.00      1.00      9000\n",
            "   macro avg       1.00      1.00      1.00      9000\n",
            "weighted avg       1.00      1.00      1.00      9000\n",
            "\n"
          ],
          "name": "stdout"
        },
        {
          "output_type": "execute_result",
          "data": {
            "image/png": "[encoded data removed]",
            "text/plain": [
              "<PIL.Image.Image image mode=RGB size=100x90 at 0x7FDBDD8BA1D0>"
            ]
          },
          "metadata": {
            "tags": []
          },
          "execution_count": 43
        },
        {
          "output_type": "display_data",
          "data": {
            "image/png": "[encoded data removed]",
            "text/plain": [
              "<Figure size 432x288 with 2 Axes>"
            ]
          },
          "metadata": {
            "tags": []
          }
        }
      ]
    },
    {
      "cell_type": "markdown",
      "metadata": {
        "id": "AkjdUTR3aJZC",
        "colab_type": "text"
      },
      "source": [
        "## Unbalanced Dataset"
      ]
    },
    {
      "cell_type": "markdown",
      "metadata": {
        "id": "4afkZZgjZhGY",
        "colab_type": "text"
      },
      "source": [
        "Sometimes the data can be biased toward one or two classes with a lot of data, and another may have nearly none!  Therefore, the classifier(s) will have a lot of examples for some classes and not really learn the smaller class that well. "
      ]
    },
    {
      "cell_type": "code",
      "metadata": {
        "id": "uN3ZpYtjbxd6",
        "colab_type": "code",
        "colab": {
          "base_uri": "https://localhost:8080/",
          "height": 301
        },
        "outputId": "99050e35-2a7d-4e15-96ec-1ff00fbdfc78"
      },
      "source": [
        "sns.distplot(pd.Series(training_outputs_labels, name=\"classes\"), kde=False)"
      ],
      "execution_count": null,
      "outputs": [
        {
          "output_type": "execute_result",
          "data": {
            "text/plain": [
              "<matplotlib.axes._subplots.AxesSubplot at 0x7fdbc3f1de48>"
            ]
          },
          "metadata": {
            "tags": []
          },
          "execution_count": 99
        },
        {
          "output_type": "display_data",
          "data": {
            "image/png": "[encoded data removed]",
            "text/plain": [
              "<Figure size 432x288 with 1 Axes>"
            ]
          },
          "metadata": {
            "tags": []
          }
        }
      ]
    },
    {
      "cell_type": "markdown",
      "metadata": {
        "id": "mK8P7kCmnVCx",
        "colab_type": "text"
      },
      "source": [
        "### Sub-Sampling"
      ]
    },
    {
      "cell_type": "markdown",
      "metadata": {
        "id": "-oPEdM6qq67O",
        "colab_type": "text"
      },
      "source": [
        "This method is not recommended as it throws away a lot of data"
      ]
    },
    {
      "cell_type": "code",
      "metadata": {
        "id": "_VVwoz_iZjss",
        "colab_type": "code",
        "colab": {}
      },
      "source": [
        "classes = {}\n",
        "for i,c in enumerate(training_outputs_labels):\n",
        "  if c in classes:\n",
        "    classes[c].append(i)\n",
        "  else:\n",
        "    classes[c] = [i]\n",
        "\n",
        "class_sizes = [len(c) for c in classes.values()]\n",
        "smallest_class_size = min(class_sizes)\n",
        "\n",
        "import random\n",
        "ids = [random.sample(c,smallest_class_size) for c in classes.values()]\n",
        "subsampled_training_inputs = [training_inputs[i] for c in ids for i in c]\n",
        "subsampled_training_outputs = [training_outputs[i] for c in ids for i in c]\n",
        "subsampled_training_outputs_labels = [training_outputs_labels[i] for c in ids for i in c]"
      ],
      "execution_count": null,
      "outputs": []
    },
    {
      "cell_type": "code",
      "metadata": {
        "id": "8584BtWOqDgE",
        "colab_type": "code",
        "colab": {
          "base_uri": "https://localhost:8080/",
          "height": 301
        },
        "outputId": "625fa26c-f26d-46b2-d523-4d999428ead1"
      },
      "source": [
        "sns.distplot(pd.Series(subsampled_training_outputs_labels, name=\"classes\"), kde=False)"
      ],
      "execution_count": null,
      "outputs": [
        {
          "output_type": "execute_result",
          "data": {
            "text/plain": [
              "<matplotlib.axes._subplots.AxesSubplot at 0x7fdbc3e0db38>"
            ]
          },
          "metadata": {
            "tags": []
          },
          "execution_count": 98
        },
        {
          "output_type": "display_data",
          "data": {
            "image/png": "[encoded data removed]",
            "text/plain": [
              "<Figure size 432x288 with 1 Axes>"
            ]
          },
          "metadata": {
            "tags": []
          }
        }
      ]
    },
    {
      "cell_type": "code",
      "metadata": {
        "id": "-94D3oujqNPC",
        "colab_type": "code",
        "colab": {
          "base_uri": "https://localhost:8080/",
          "height": 544
        },
        "outputId": "60d23513-f453-4aff-8561-a8413512b5cc"
      },
      "source": [
        "dnn_classifier2 = MLPClassifier(hidden_layer_sizes = [100]*5)\n",
        "dnn_classifier2.fit(subsampled_training_inputs, subsampled_training_outputs)\n",
        "\n",
        "dnn_predictions2 = dnn_classifier2.predict(training_inputs)\n",
        "dnn_predictions_labels2 = [np.argmax(p) for p in dnn_predictions2]\n",
        "evaluate(training_outputs_labels, dnn_predictions_labels2, labels)\n",
        "Image.fromarray(format_prediction(dnn_predictions2))  "
      ],
      "execution_count": null,
      "outputs": [
        {
          "output_type": "stream",
          "text": [
            "              precision    recall  f1-score   support\n",
            "\n",
            "           0       0.86      0.79      0.82      5608\n",
            "           1       0.66      0.62      0.64      2698\n",
            "           2       0.52      1.00      0.69       694\n",
            "\n",
            "   micro avg       0.75      0.75      0.75      9000\n",
            "   macro avg       0.68      0.80      0.72      9000\n",
            "weighted avg       0.77      0.75      0.76      9000\n",
            "\n"
          ],
          "name": "stdout"
        },
        {
          "output_type": "execute_result",
          "data": {
            "image/png": "[encoded data removed]",
            "text/plain": [
              "<PIL.Image.Image image mode=RGB size=100x90 at 0x7FDBC40B7048>"
            ]
          },
          "metadata": {
            "tags": []
          },
          "execution_count": 90
        },
        {
          "output_type": "display_data",
          "data": {
            "image/png": "[encoded data removed]",
            "text/plain": [
              "<Figure size 432x288 with 2 Axes>"
            ]
          },
          "metadata": {
            "tags": []
          }
        }
      ]
    },
    {
      "cell_type": "markdown",
      "metadata": {
        "id": "N7c9__ddrAwB",
        "colab_type": "text"
      },
      "source": [
        "### Upsampling"
      ]
    },
    {
      "cell_type": "code",
      "metadata": {
        "id": "ztvqahbFrFV2",
        "colab_type": "code",
        "colab": {}
      },
      "source": [
        "largest_class_size = max(class_sizes)\n",
        "\n",
        "import random\n",
        "ids = [[random.choice(c) for _ in range(largest_class_size - len(c))] for c in classes.values()]\n",
        "upsampled_training_inputs = [training_inputs[i] for c in ids for i in c]\n",
        "upsampled_training_outputs = [training_outputs[i] for c in ids for i in c]\n",
        "upsampled_training_outputs_labels = [training_outputs_labels[i] for c in ids for i in c]\n",
        "\n",
        "upsampled_training_inputs += training_inputs\n",
        "upsampled_training_outputs += training_outputs\n",
        "upsampled_training_outputs_labels += training_outputs_labels"
      ],
      "execution_count": null,
      "outputs": []
    },
    {
      "cell_type": "code",
      "metadata": {
        "id": "0Ad89qjDtJ-m",
        "colab_type": "code",
        "colab": {
          "base_uri": "https://localhost:8080/",
          "height": 301
        },
        "outputId": "42d3f27a-433e-4f8a-e611-9e51652e9658"
      },
      "source": [
        "sns.distplot(pd.Series(upsampled_training_outputs_labels, name=\"classes\"), kde=False)"
      ],
      "execution_count": null,
      "outputs": [
        {
          "output_type": "execute_result",
          "data": {
            "text/plain": [
              "<matplotlib.axes._subplots.AxesSubplot at 0x7fdbc39c4f98>"
            ]
          },
          "metadata": {
            "tags": []
          },
          "execution_count": 97
        },
        {
          "output_type": "display_data",
          "data": {
            "image/png": "[encoded data removed]",
            "text/plain": [
              "<Figure size 432x288 with 1 Axes>"
            ]
          },
          "metadata": {
            "tags": []
          }
        }
      ]
    },
    {
      "cell_type": "code",
      "metadata": {
        "id": "fcToOqC1tPST",
        "colab_type": "code",
        "colab": {
          "base_uri": "https://localhost:8080/",
          "height": 544
        },
        "outputId": "9a31dcfa-3006-4ccf-e912-b29d5efb1778"
      },
      "source": [
        "dnn_classifier3 = MLPClassifier(hidden_layer_sizes = [100]*5)\n",
        "dnn_classifier3.fit(upsampled_training_inputs, upsampled_training_outputs)\n",
        "\n",
        "dnn_predictions3 = dnn_classifier3.predict(training_inputs)\n",
        "dnn_predictions_labels3 = [np.argmax(p) for p in dnn_predictions3]\n",
        "evaluate(training_outputs_labels, dnn_predictions_labels3, labels)\n",
        "Image.fromarray(format_prediction(dnn_predictions3))  "
      ],
      "execution_count": null,
      "outputs": [
        {
          "output_type": "stream",
          "text": [
            "              precision    recall  f1-score   support\n",
            "\n",
            "           0       0.93      0.86      0.89      5608\n",
            "           1       0.77      0.79      0.78      2698\n",
            "           2       0.67      1.00      0.80       694\n",
            "\n",
            "   micro avg       0.85      0.85      0.85      9000\n",
            "   macro avg       0.79      0.88      0.82      9000\n",
            "weighted avg       0.86      0.85      0.85      9000\n",
            "\n"
          ],
          "name": "stdout"
        },
        {
          "output_type": "execute_result",
          "data": {
            "image/png": "[encoded data removed]",
            "text/plain": [
              "<PIL.Image.Image image mode=RGB size=100x90 at 0x7FDBC3F06CC0>"
            ]
          },
          "metadata": {
            "tags": []
          },
          "execution_count": 92
        },
        {
          "output_type": "display_data",
          "data": {
            "image/png": "[encoded data removed]",
            "text/plain": [
              "<Figure size 432x288 with 2 Axes>"
            ]
          },
          "metadata": {
            "tags": []
          }
        }
      ]
    },
    {
      "cell_type": "markdown",
      "metadata": {
        "id": "Crh43Q68rC-n",
        "colab_type": "text"
      },
      "source": [
        "### SMOTE"
      ]
    },
    {
      "cell_type": "code",
      "metadata": {
        "id": "uG1wCDMpu2xr",
        "colab_type": "code",
        "colab": {}
      },
      "source": [
        "from imblearn.over_sampling import SMOTE\n",
        "sm = SMOTE()\n",
        "resampled_training_inputs, resampled_training_outputs_labels = sm.fit_resample(training_inputs, training_outputs_labels)\n",
        "resampled_training_outputs = [one_hot(c,z) for c in resampled_training_outputs_labels]"
      ],
      "execution_count": null,
      "outputs": []
    },
    {
      "cell_type": "code",
      "metadata": {
        "id": "1Va_a7GNvNlx",
        "colab_type": "code",
        "colab": {
          "base_uri": "https://localhost:8080/",
          "height": 301
        },
        "outputId": "9c640d45-b2d4-4a3f-ed0a-2daef1017304"
      },
      "source": [
        "sns.distplot(pd.Series(resampled_training_outputs_labels, name=\"classes\"), kde=False)"
      ],
      "execution_count": null,
      "outputs": [
        {
          "output_type": "execute_result",
          "data": {
            "text/plain": [
              "<matplotlib.axes._subplots.AxesSubplot at 0x7fdbc3c67898>"
            ]
          },
          "metadata": {
            "tags": []
          },
          "execution_count": 96
        },
        {
          "output_type": "display_data",
          "data": {
            "image/png": "[encoded data removed]",
            "text/plain": [
              "<Figure size 432x288 with 1 Axes>"
            ]
          },
          "metadata": {
            "tags": []
          }
        }
      ]
    },
    {
      "cell_type": "code",
      "metadata": {
        "id": "G6Sx-ZLAvR3W",
        "colab_type": "code",
        "colab": {
          "base_uri": "https://localhost:8080/",
          "height": 544
        },
        "outputId": "ce59b749-b110-47a3-9add-f1cbdc9ac89f"
      },
      "source": [
        "dnn_classifier4 = MLPClassifier(hidden_layer_sizes = [100]*5)\n",
        "dnn_classifier4.fit(resampled_training_inputs, resampled_training_outputs)\n",
        "\n",
        "dnn_predictions4 = dnn_classifier4.predict(training_inputs)\n",
        "dnn_predictions_labels4 = [np.argmax(p) for p in dnn_predictions4]\n",
        "evaluate(training_outputs_labels, dnn_predictions_labels4, labels)\n",
        "Image.fromarray(format_prediction(dnn_predictions4))  "
      ],
      "execution_count": null,
      "outputs": [
        {
          "output_type": "stream",
          "text": [
            "              precision    recall  f1-score   support\n",
            "\n",
            "           0       0.93      0.82      0.87      5608\n",
            "           1       0.72      0.83      0.77      2698\n",
            "           2       0.70      0.97      0.81       694\n",
            "\n",
            "   micro avg       0.83      0.83      0.83      9000\n",
            "   macro avg       0.78      0.87      0.82      9000\n",
            "weighted avg       0.85      0.83      0.84      9000\n",
            "\n"
          ],
          "name": "stdout"
        },
        {
          "output_type": "execute_result",
          "data": {
            "image/png": "[encoded data removed]",
            "text/plain": [
              "<PIL.Image.Image image mode=RGB size=100x90 at 0x7FDBCD522128>"
            ]
          },
          "metadata": {
            "tags": []
          },
          "execution_count": 93
        },
        {
          "output_type": "display_data",
          "data": {
            "image/png": "[encoded data removed]",
            "text/plain": [
              "<Figure size 432x288 with 2 Axes>"
            ]
          },
          "metadata": {
            "tags": []
          }
        }
      ]
    },
    {
      "cell_type": "markdown",
      "metadata": {
        "id": "qy3rbBvf0o3N",
        "colab_type": "text"
      },
      "source": [
        "## Multiclass Classification without a Classifier!"
      ]
    },
    {
      "cell_type": "markdown",
      "metadata": {
        "id": "86cRWCYf0xCM",
        "colab_type": "text"
      },
      "source": [
        "Lets embed the class labels into the same space as the training data. We can do that by taking the average of the vectors for each class. This is equivalent to taking the centroid of each classes vector cluster."
      ]
    },
    {
      "cell_type": "code",
      "metadata": {
        "id": "d3dMSb_p0xqz",
        "colab_type": "code",
        "colab": {}
      },
      "source": [
        "clusters = {this_class:[training_inputs[i] for i,c in enumerate(training_outputs_labels) if c == this_class] for this_class in range(n_classes)}\n",
        "centroids = [np.mean(np.array(vectors), axis=0) for vectors in clusters.values()]"
      ],
      "execution_count": null,
      "outputs": []
    },
    {
      "cell_type": "markdown",
      "metadata": {
        "id": "dJqJ8NYX01Hs",
        "colab_type": "text"
      },
      "source": [
        "Now lets take a look at the cluster centroids for each class"
      ]
    },
    {
      "cell_type": "code",
      "metadata": {
        "id": "iILG5_Uw04OG",
        "colab_type": "code",
        "colab": {}
      },
      "source": [
        "def plot_class_centroid(c):\n",
        "  class_vectors = list(clusters.values())[c]\n",
        "  class_label_vector = centroids[c]\n",
        "\n",
        "  X = [x for x,_ in class_vectors + [class_label_vector]]\n",
        "  Y = [y for _,y in class_vectors + [class_label_vector]]\n",
        "  colours = ([c] * (len(X) - 1)) + [c+1]\n",
        "  sizes = ([10] * (len(X) - 1)) + [len(X)]\n",
        "\n",
        "  plt.scatter(X, Y, s = sizes, c= colours, alpha=0.5)"
      ],
      "execution_count": null,
      "outputs": []
    },
    {
      "cell_type": "code",
      "metadata": {
        "id": "QSVRihKD08hQ",
        "colab_type": "code",
        "colab": {}
      },
      "source": [
        "plot_class_centroid(0)\n",
        "centroids[0]"
      ],
      "execution_count": null,
      "outputs": []
    },
    {
      "cell_type": "code",
      "metadata": {
        "id": "7gDFEUsD0_nZ",
        "colab_type": "code",
        "colab": {}
      },
      "source": [
        "plot_class_centroid(1)\n",
        "centroids[1]"
      ],
      "execution_count": null,
      "outputs": []
    },
    {
      "cell_type": "code",
      "metadata": {
        "id": "3u8N0AGF0_8_",
        "colab_type": "code",
        "colab": {}
      },
      "source": [
        "plot_class_centroid(2)\n",
        "centroids[2]"
      ],
      "execution_count": null,
      "outputs": []
    },
    {
      "cell_type": "markdown",
      "metadata": {
        "id": "f6AjL9FM1Gmn",
        "colab_type": "text"
      },
      "source": [
        "Now to predict the class for a new pixel, you compare its vector to the vector for each class label (using a metric like cosine similarity) and return the closest match as the predicted class label"
      ]
    },
    {
      "cell_type": "code",
      "metadata": {
        "id": "yh_gpSqY1HGo",
        "colab_type": "code",
        "colab": {}
      },
      "source": [
        "from scipy.spatial.distance import cosine\n",
        "\n",
        "def predict_class(vector, class_vectors):\n",
        "  scores = [(cosine(vector, class_vector),c) for c,class_vector in enumerate(class_vectors)]\n",
        "  ranked = [c for _,c in sorted(scores)]\n",
        "  return ranked[0]"
      ],
      "execution_count": null,
      "outputs": []
    },
    {
      "cell_type": "code",
      "metadata": {
        "id": "j0vuBncf1Oz3",
        "colab_type": "code",
        "colab": {}
      },
      "source": [
        "predict_class([40,50], centroids)"
      ],
      "execution_count": null,
      "outputs": []
    },
    {
      "cell_type": "code",
      "metadata": {
        "id": "JBt7XWxI1PXy",
        "colab_type": "code",
        "colab": {}
      },
      "source": [
        "centroid_predictions_labels = [predict_class(xy, centroids) for xy in training_inputs]\n",
        "evaluate(training_outputs_labels, centroid_predictions_labels, labels)\n",
        "\n",
        "centroid_predictions = [one_hot(p, z) for p in centroid_predictions_labels]\n",
        "Image.fromarray(format_prediction(centroid_predictions))  "
      ],
      "execution_count": null,
      "outputs": []
    }
  ]
}